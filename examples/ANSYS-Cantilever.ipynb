{
 "cells": [
  {
   "cell_type": "markdown",
   "metadata": {},
   "source": [
    "# Connecting Python and ANSYS by PARANSYS\n",
    "\n",
    "In this example the APDL script `BeckCantileverAPDL.inp` is used on ANSYS by PARANSYS. The input variables from the script are `q,l,b,h` and the ouput is the stress on a cantilever beam (`stress`).\n",
    "\n",
    "## Importing all that will be used:"
   ]
  },
  {
   "cell_type": "code",
   "execution_count": 41,
   "metadata": {},
   "outputs": [],
   "source": [
    "import paransys\n",
    "import numpy as np\n",
    "import pandas as pd\n",
    "from IPython.display import display"
   ]
  },
  {
   "cell_type": "markdown",
   "metadata": {},
   "source": [
    "## Setup:\n",
    "First we need to find the ANSYS executable location (`ansloc`) and define the working directory that ANSYS will use (`workingdir`). I'm using ANSYS 2019 R2 and the working dir is at `C:\\Temp\\wk`."
   ]
  },
  {
   "cell_type": "code",
   "execution_count": 42,
   "metadata": {
    "tags": []
   },
   "outputs": [
    {
     "name": "stdout",
     "output_type": "stream",
     "text": [
      "ANSYS properties defined as:\n",
      "   Executable file: \"C:\\Program Files\\ANSYS Inc\\v194\\ansys\\bin\\winx64\\ansys194.exe\".\n",
      "   Working directory: \"C:\\Temp\\wk\".\n",
      "   Jobname: \"file\".\n",
      "   Number of processors used: \"4\".\n",
      "   Override lock file: \"True\".\n",
      "   Clear working directory: \"False\".\n",
      "   Additional flags: \"\".\n",
      "Now the commands will send a return to Python (like this).\n"
     ]
    }
   ],
   "source": [
    "\n",
    "ansloc = 'C:\\\\Program Files\\\\ANSYS Inc\\\\v194\\\\ansys\\\\bin\\\\winx64\\\\ansys194.exe'\n",
    "workingdir = 'C:\\\\Temp\\\\wk'\n",
    "# Create ans object that is ANSYS\n",
    "ans = paransys.ANSYS(exec_loc=ansloc, run_location=workingdir, jobname='file', nproc=4, override=True, cleardir=False, add_flags='')\n",
    "# Activate the output to Python\n",
    "ans.Info(True)"
   ]
  },
  {
   "cell_type": "markdown",
   "metadata": {},
   "source": [
    "### Set APDL model that will be used:\n",
    "Here it's at the current directory and have no extra files, so we can do:\n"
   ]
  },
  {
   "cell_type": "code",
   "execution_count": 43,
   "metadata": {
    "tags": []
   },
   "outputs": [
    {
     "name": "stdout",
     "output_type": "stream",
     "text": [
      "Input script file and extra files copied to working directory.\n",
      "   Main APDL script: \"BeckCantileverAPDL.inp\".\n",
      "   Extra model files: \"[]\".\n",
      "   Input directory: \".\".\n"
     ]
    }
   ],
   "source": [
    "ans.SetModel(inputname='BeckCantileverAPDL.inp', extrafiles=[], directory='.')"
   ]
  },
  {
   "cell_type": "markdown",
   "metadata": {},
   "source": [
    "### Setting parameters that will be setted by Python and the parameters that ANSYS should return:\n",
    "In this case the input parameters are `q,l,b,h` and the ouput `stress`.\n"
   ]
  },
  {
   "cell_type": "code",
   "execution_count": 44,
   "metadata": {
    "tags": []
   },
   "outputs": [
    {
     "name": "stdout",
     "output_type": "stream",
     "text": [
      "ANSYS input variable \"Q\" created.\n",
      "ANSYS input variable \"L\" created.\n",
      "ANSYS input variable \"B\" created.\n",
      "ANSYS input variable \"H\" created.\n",
      "Variable \"STRESS\" declared as ANSYS output variable.\n"
     ]
    }
   ],
   "source": [
    "# Set input parameters\n",
    "ans.CreateVarIn('q')\n",
    "ans.CreateVarIn('l')\n",
    "ans.CreateVarIn('b')\n",
    "ans.CreateVarIn('h')\n",
    "\n",
    "# Set output parameters\n",
    "ans.CreateVarOut('stress')"
   ]
  },
  {
   "cell_type": "markdown",
   "metadata": {},
   "source": [
    "### Setting analysis lenght:\n",
    "The number of analysis that will be executed should be defined before setting the values, with this PARANSYS can know if the values are in the righ size.\n",
    "In this case the lenght is 3 analysis."
   ]
  },
  {
   "cell_type": "code",
   "execution_count": 45,
   "metadata": {
    "tags": []
   },
   "outputs": [
    {
     "name": "stdout",
     "output_type": "stream",
     "text": [
      "Analysis lenght set to 3.\n"
     ]
    }
   ],
   "source": [
    "ans.SetLength(3)"
   ]
  },
  {
   "cell_type": "markdown",
   "metadata": {},
   "source": [
    "The model is now set. \n",
    "If you keep the model, variables and lenght that part doesn't need to change anymore. The values could be set as many times as you need, this will be done now.\n",
    "\n",
    "## Setting vlaues, running and postprocessing:\n",
    "The 3 analysis that will be done here are used to determine the derivatives of stress in relation to l and h by the finite difference method: $$\\frac{\\partial stress}{\\partial l} \\space\\space\\space and \\space\\space\\space \\frac{\\partial stress}{\\partial h}$$\n",
    "\n",
    "The values that parameters will assume in the three simualtions are:\n",
    "\n",
    "| Sim\\Var |  q   |   l  |  b  | h   |\n",
    "|---------|------|------|-----|-----|\n",
    "| Sim #1  | 1.15 | 60.0 | 4.0 | 1.0 |\n",
    "| Sim #2  | 1.15 | 62.0 | 4.0 | 1.0 |\n",
    "| Sim #3  | 1.15 | 60.0 | 4.0 | 1.2 |\n"
   ]
  },
  {
   "cell_type": "code",
   "execution_count": 46,
   "metadata": {
    "tags": []
   },
   "outputs": [
    {
     "name": "stdout",
     "output_type": "stream",
     "text": [
      "Values of \"Q\" were set.\n",
      "Values of \"L\" were set.\n",
      "Values of \"B\" were set.\n",
      "Values of \"H\" were set.\n"
     ]
    }
   ],
   "source": [
    "# Creatting arrays with the values\n",
    "# Values at (Sim#1, Sim#2, Sim#3)\n",
    "q = np.array([1.15,  1.15,  1.15])\n",
    "l = np.array([60.0,  62.0,  60.0])\n",
    "b = np.array([4.00,  4.00,  4.00])\n",
    "h = np.array([1.00,  1.00,  1.20])\n",
    "\n",
    "# Passing it to ANSYS\n",
    "ans.SetVarInValues('q', q)\n",
    "ans.SetVarInValues('l', l)\n",
    "ans.SetVarInValues('b', b)\n",
    "ans.SetVarInValues('h', h)"
   ]
  },
  {
   "cell_type": "markdown",
   "metadata": {},
   "source": [
    "### Running:"
   ]
  },
  {
   "cell_type": "code",
   "execution_count": 47,
   "metadata": {
    "tags": []
   },
   "outputs": [
    {
     "name": "stdout",
     "output_type": "stream",
     "text": [
      "Deleting old error log file.\n",
      "Writing the pdsrun.inp file.\n",
      "Saving the pdsrun.inp file.\n",
      "Writing the current.samp file.\n",
      "Running ANSYS.\n",
      "Solution is done. It took 0.071076 minutes.\n"
     ]
    }
   ],
   "source": [
    "ans.Run()"
   ]
  },
  {
   "cell_type": "markdown",
   "metadata": {},
   "source": [
    "### Acessing the results:\n",
    "The results will by imported as a dictionary"
   ]
  },
  {
   "cell_type": "code",
   "execution_count": 48,
   "metadata": {
    "tags": []
   },
   "outputs": [
    {
     "name": "stdout",
     "output_type": "stream",
     "text": [
      "Importing results from PDS results file (\"C:\\Temp\\wk\\file_current.pdrs\").\n"
     ]
    }
   ],
   "source": [
    "results = ans.GetVarOutValues()"
   ]
  },
  {
   "cell_type": "markdown",
   "metadata": {},
   "source": [
    "We can print all results using print(), print just `stress` or another whings.\n",
    "\n",
    "The output parameters always came in UPPER CASE because of ANSYS is made in FORTRAN77 (I think it's because of that!)"
   ]
  },
  {
   "cell_type": "code",
   "execution_count": 49,
   "metadata": {
    "tags": []
   },
   "outputs": [
    {
     "name": "stdout",
     "output_type": "stream",
     "text": [
      "All results: {'ERR': array([0., 0., 0.]), 'STRESS': array([3103.706543, 3314.068848, 2155.351807])}\n",
      "\n",
      "Just stresses: [3103.706543 3314.068848 2155.351807]\n",
      "\n"
     ]
    }
   ],
   "source": [
    "# Print all results\n",
    "print(f'All results: {results}\\n')\n",
    "\n",
    "# Print just stresses\n",
    "print(f'Just stresses: {results[\"STRESS\"]}\\n')"
   ]
  },
  {
   "cell_type": "markdown",
   "metadata": {},
   "source": [
    "We can make a Pandas DataFrame with all inputs and results!"
   ]
  },
  {
   "cell_type": "code",
   "execution_count": 50,
   "metadata": {
    "tags": []
   },
   "outputs": [
    {
     "data": {
      "text/html": [
       "<div>\n",
       "<style scoped>\n",
       "    .dataframe tbody tr th:only-of-type {\n",
       "        vertical-align: middle;\n",
       "    }\n",
       "\n",
       "    .dataframe tbody tr th {\n",
       "        vertical-align: top;\n",
       "    }\n",
       "\n",
       "    .dataframe thead th {\n",
       "        text-align: right;\n",
       "    }\n",
       "</style>\n",
       "<table border=\"1\" class=\"dataframe\">\n",
       "  <thead>\n",
       "    <tr style=\"text-align: right;\">\n",
       "      <th></th>\n",
       "      <th>q</th>\n",
       "      <th>l</th>\n",
       "      <th>b</th>\n",
       "      <th>h</th>\n",
       "      <th>stress</th>\n",
       "    </tr>\n",
       "  </thead>\n",
       "  <tbody>\n",
       "    <tr>\n",
       "      <th>0</th>\n",
       "      <td>1.15</td>\n",
       "      <td>60.0</td>\n",
       "      <td>4.0</td>\n",
       "      <td>1.0</td>\n",
       "      <td>3103.706543</td>\n",
       "    </tr>\n",
       "    <tr>\n",
       "      <th>1</th>\n",
       "      <td>1.15</td>\n",
       "      <td>62.0</td>\n",
       "      <td>4.0</td>\n",
       "      <td>1.0</td>\n",
       "      <td>3314.068848</td>\n",
       "    </tr>\n",
       "    <tr>\n",
       "      <th>2</th>\n",
       "      <td>1.15</td>\n",
       "      <td>60.0</td>\n",
       "      <td>4.0</td>\n",
       "      <td>1.2</td>\n",
       "      <td>2155.351807</td>\n",
       "    </tr>\n",
       "  </tbody>\n",
       "</table>\n",
       "</div>"
      ],
      "text/plain": [
       "      q     l    b    h       stress\n",
       "0  1.15  60.0  4.0  1.0  3103.706543\n",
       "1  1.15  62.0  4.0  1.0  3314.068848\n",
       "2  1.15  60.0  4.0  1.2  2155.351807"
      ]
     },
     "metadata": {},
     "output_type": "display_data"
    }
   ],
   "source": [
    "df = pd.DataFrame({'q': q, 'l': l, 'b': b, 'h': h, 'stress': results['STRESS']})\n",
    "#print(df) # Console\n",
    "display(df) # On Jupyter"
   ]
  },
  {
   "cell_type": "markdown",
   "metadata": {},
   "source": [
    "### Derivatives:\n",
    "The finite difference method could be described as: $$\\frac{\\partial g(x)}{\\partial x} = \\frac{g(x+dh)-g(x)}{dh}$$\n",
    "\n",
    "The values in the past simulations are:\n",
    "- First simulation = g(q,l,b,h)\n",
    "- Second simulation = g(q,l+dh,b,h), being dh=2.0\n",
    "- Third simulation = g(q,l,b,h+dh), being dh=0.2\n",
    "\n",
    "So with the first and second lines we can determine $\\frac{\\partial stress}{\\partial l}$ as:"
   ]
  },
  {
   "cell_type": "code",
   "execution_count": 51,
   "metadata": {
    "tags": []
   },
   "outputs": [
    {
     "name": "stdout",
     "output_type": "stream",
     "text": [
      "dStress/dl = 105.18115250000005\n"
     ]
    }
   ],
   "source": [
    "dSdl = (df['stress'][1]-df['stress'][0])/(df['l'][1]-df['l'][0])\n",
    "print(f'dStress/dl = {dSdl}')"
   ]
  },
  {
   "cell_type": "markdown",
   "metadata": {},
   "source": [
    "And with the first and third lines we can determine $\\frac{\\partial stress}{\\partial h}$ as:"
   ]
  },
  {
   "cell_type": "code",
   "execution_count": 52,
   "metadata": {
    "tags": []
   },
   "outputs": [
    {
     "name": "stdout",
     "output_type": "stream",
     "text": [
      "dStress/dh = -4741.77368\n"
     ]
    }
   ],
   "source": [
    "dSdh = (df['stress'][2]-df['stress'][0])/(df['h'][2]-df['h'][0])\n",
    "print(f'dStress/dh = {dSdh}')"
   ]
  },
  {
   "cell_type": "markdown",
   "metadata": {},
   "source": [
    "## Final considerations:\n",
    "We used PARANSYS to determine the derivatives of an ANSYS model, this is used in PARANSYS.FORM class to apply the First Order Reliability Method, and could be used in this way for many projects (otimization, another reliability problems, Monte Carlo simulations, Neural Networks, etc).\n",
    "\n",
    "If you have to change the variables or the model of your analysis you may have to use the command `ans.ClearAll()`, this will erase almost everything. If just have to erase the values and change the number of analysis (length) you may use `ans.ClearValues()`, this will keep the model and variables names. \n",
    "\n",
    "\n",
    "For now that's all I remember!\n",
    "\n",
    "Eduardo P. Titello, 2020."
   ]
  },
  {
   "cell_type": "code",
   "execution_count": null,
   "metadata": {},
   "outputs": [],
   "source": []
  },
  {
   "cell_type": "code",
   "execution_count": null,
   "metadata": {},
   "outputs": [],
   "source": []
  }
 ],
 "metadata": {
  "kernelspec": {
   "display_name": "Python 3",
   "language": "python",
   "name": "python3"
  },
  "language_info": {
   "codemirror_mode": {
    "name": "ipython",
    "version": 3
   },
   "file_extension": ".py",
   "mimetype": "text/x-python",
   "name": "python",
   "nbconvert_exporter": "python",
   "pygments_lexer": "ipython3",
   "version": "3.7.6"
  }
 },
 "nbformat": 4,
 "nbformat_minor": 4
}
