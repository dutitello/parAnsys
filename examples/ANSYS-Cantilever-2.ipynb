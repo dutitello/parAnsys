{
 "cells": [
  {
   "cell_type": "markdown",
   "metadata": {},
   "source": [
    "# Connecting Python and ANSYS by PARANSYS #2\n",
    "\n",
    "In this example the APDL script `BeckCantileverAPDL.inp` is used on ANSYS by PARANSYS. The input variables from the script are `q,l,b,h` and the ouput is the stress on a cantilever beam (`stress`). The difference betwen this example and the past is that now we will create a Python function that will return the stress for some properties.\n",
    "\n",
    "## Importing all that will be used:"
   ]
  },
  {
   "cell_type": "code",
   "execution_count": 1,
   "metadata": {},
   "outputs": [],
   "source": [
    "import paransys\n",
    "import numpy as np"
   ]
  },
  {
   "cell_type": "markdown",
   "metadata": {},
   "source": [
    "## Setup:\n",
    "First we need to find the ANSYS executable location (`ansloc`) and define the working directory that ANSYS will use (`workingdir`). I'm using ANSYS 2019 R2 and the working dir is at `C:\\Temp\\wk`."
   ]
  },
  {
   "cell_type": "code",
   "execution_count": 2,
   "metadata": {
    "tags": []
   },
   "outputs": [
    {
     "output_type": "stream",
     "name": "stdout",
     "text": "ANSYS properties defined as:\n   Executable file: \"C:\\Program Files\\ANSYS Inc\\v194\\ansys\\bin\\winx64\\ansys194.exe\".\n   Working directory: \"C:\\Temp\\wk\".\n   Jobname: \"file\".\n   Number of processors used: \"4\".\n   Override lock file: \"True\".\n   Clear working directory: \"False\".\n   Additional flags: \"\".\nNow the commands will send a return to Python (like this).\n"
    }
   ],
   "source": [
    "\n",
    "ansloc = 'C:\\\\Program Files\\\\ANSYS Inc\\\\v194\\\\ansys\\\\bin\\\\winx64\\\\ansys194.exe'\n",
    "workingdir = 'C:\\\\Temp\\\\wk'\n",
    "# Create ans object that is ANSYS\n",
    "ans = paransys.ANSYS(exec_loc=ansloc, run_location=workingdir, jobname='file', nproc=4, override=True, cleardir=False, add_flags='')\n",
    "# Activate the output to Python\n",
    "ans.Info(True)"
   ]
  },
  {
   "cell_type": "markdown",
   "metadata": {},
   "source": [
    "### Set APDL model that will be used:\n",
    "Here it's at the current directory and have no extra files, so we can do:\n"
   ]
  },
  {
   "cell_type": "code",
   "execution_count": 3,
   "metadata": {
    "tags": []
   },
   "outputs": [
    {
     "output_type": "stream",
     "name": "stdout",
     "text": "Input script file and extra files copied to working directory.\n   Main APDL script: \"BeckCantileverAPDL.inp\".\n   Extra model files: \"[]\".\n   Input directory: \".\".\n"
    }
   ],
   "source": [
    "ans.SetModel(inputname='BeckCantileverAPDL.inp', extrafiles=[], directory='.')"
   ]
  },
  {
   "cell_type": "markdown",
   "metadata": {},
   "source": [
    "### Setting parameters that will be setted by Python and the parameters that ANSYS should return:\n",
    "In this case the input parameters are `q,l,b,h` and the ouput `stress`.\n"
   ]
  },
  {
   "cell_type": "code",
   "execution_count": 4,
   "metadata": {
    "tags": []
   },
   "outputs": [
    {
     "output_type": "stream",
     "name": "stdout",
     "text": "ANSYS input variable \"Q\" created.\nANSYS input variable \"L\" created.\nANSYS input variable \"B\" created.\nANSYS input variable \"H\" created.\nVariable \"STRESS\" declared as ANSYS output variable.\n"
    }
   ],
   "source": [
    "# Set input parameters\n",
    "ans.CreateVarIn('q')\n",
    "ans.CreateVarIn('l')\n",
    "ans.CreateVarIn('b')\n",
    "ans.CreateVarIn('h')\n",
    "\n",
    "# Set output parameters\n",
    "ans.CreateVarOut('stress')"
   ]
  },
  {
   "cell_type": "markdown",
   "metadata": {},
   "source": [
    "## Creating the stress function\n",
    "The function `stress(q, l, b, h)` will use ANSYS to return the stress at the beam. \n",
    "\n",
    "In this case the lenght will be 1 and we still need to put values in a NumPy array to pass it."
   ]
  },
  {
   "cell_type": "code",
   "execution_count": 17,
   "metadata": {},
   "outputs": [],
   "source": [
    "def stress(q ,l, b, h):\n",
    "    # To set lenght we have to clear old values\n",
    "    ans.ClearValues()\n",
    "    # Analysis lenght\n",
    "    ans.SetLength(1)\n",
    "\n",
    "    # Creating the arrays\n",
    "    q = np.array([q])\n",
    "    l = np.array([l])\n",
    "    b = np.array([b])\n",
    "    h = np.array([h])\n",
    "\n",
    "    # Passing it to ANSYS\n",
    "    ans.SetVarInValues('q', q)\n",
    "    ans.SetVarInValues('l', l)\n",
    "    ans.SetVarInValues('b', b)\n",
    "    ans.SetVarInValues('h', h)\n",
    "\n",
    "    # Running ANSYS\n",
    "    ans.Run()\n",
    "\n",
    "    # Accessing the results\n",
    "    results = ans.GetVarOutValues()\n",
    "    \n",
    "    # We have just one analysis so the stress is the first line of the array\n",
    "    stress = results['STRESS'][0]\n",
    "    return stress"
   ]
  },
  {
   "cell_type": "markdown",
   "metadata": {},
   "source": [
    "## Using our function\n",
    "Let's use our function to evaluate the first analys from past example:"
   ]
  },
  {
   "cell_type": "code",
   "execution_count": 29,
   "metadata": {
    "tags": []
   },
   "outputs": [
    {
     "output_type": "stream",
     "name": "stdout",
     "text": "The values of all variables were cleared. Now you can change the length parameter.\nAnalysis lenght set to 1.\nValues of \"Q\" were set.\nValues of \"L\" were set.\nValues of \"B\" were set.\nValues of \"H\" were set.\nDeleting old error log file.\nWriting the pdsrun.inp file.\nSaving the pdsrun.inp file.\nWriting the current.samp file.\nRunning ANSYS.\nSolution is done. It took 0.062761 minutes.\nImporting results from PDS results file (\"C:\\Temp\\wk\\file_current.pdrs\").\n\n\nFirst Stress = 3103.706543.\n"
    }
   ],
   "source": [
    "first_stress = stress(q=1.15, l=60.0, b=4.0, h=1.0)\n",
    "print(f'\\n\\nFirst Stress = {first_stress}.')"
   ]
  },
  {
   "cell_type": "code",
   "execution_count": null,
   "metadata": {},
   "outputs": [],
   "source": []
  }
 ],
 "metadata": {
  "kernelspec": {
   "display_name": "Python 3",
   "language": "python",
   "name": "python3"
  },
  "language_info": {
   "codemirror_mode": {
    "name": "ipython",
    "version": 3
   },
   "file_extension": ".py",
   "mimetype": "text/x-python",
   "name": "python",
   "nbconvert_exporter": "python",
   "pygments_lexer": "ipython3",
   "version": "3.7.6-final"
  }
 },
 "nbformat": 4,
 "nbformat_minor": 4
}